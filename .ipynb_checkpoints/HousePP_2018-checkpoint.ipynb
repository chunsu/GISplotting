{
 "cells": [
  {
   "cell_type": "markdown",
   "metadata": {},
   "source": [
    "Load the Pandas libraries with alias. This is a good practice."
   ]
  },
  {
   "cell_type": "code",
   "execution_count": 1,
   "metadata": {},
   "outputs": [],
   "source": [
    "import pandas as pd \n",
    "import numpy as np\n",
    "import matplotlib.pyplot as plt"
   ]
  },
  {
   "cell_type": "markdown",
   "metadata": {},
   "source": [
    " Read data from file 'pp-2018.csv' \n",
    " Control delimiters, rows, column names with read_csv (see later) "
   ]
  },
  {
   "cell_type": "code",
   "execution_count": 2,
   "metadata": {},
   "outputs": [],
   "source": [
    "colNames = ['hash','price','date','postcode','A','B','C','streetnumber','D','street','E','city','zone1','zone2','F','G']\n",
    "data = pd.read_csv(\"pp-2018.csv\", header=None, names=colNames) "
   ]
  },
  {
   "cell_type": "markdown",
   "metadata": {},
   "source": [
    "Preview of data"
   ]
  },
  {
   "cell_type": "code",
   "execution_count": 3,
   "metadata": {},
   "outputs": [
    {
     "name": "stdout",
     "output_type": "stream",
     "text": [
      "(627004, 16)\n"
     ]
    }
   ],
   "source": [
    "print (data.shape)"
   ]
  },
  {
   "cell_type": "markdown",
   "metadata": {},
   "source": [
    "concatenate strings"
   ]
  },
  {
   "cell_type": "code",
   "execution_count": 4,
   "metadata": {},
   "outputs": [
    {
     "name": "stdout",
     "output_type": "stream",
     "text": [
      "there are 627004 transactions.\n"
     ]
    }
   ],
   "source": [
    "print (\"there are {} transactions.\".format(len(data.index)))"
   ]
  },
  {
   "cell_type": "markdown",
   "metadata": {},
   "source": [
    "a quick statistic summary of the data.  Add GBP symbol in front of price\n",
    "#pd.options.display.float_format = '£{:,.2f}'.format"
   ]
  },
  {
   "cell_type": "code",
   "execution_count": 13,
   "metadata": {},
   "outputs": [
    {
     "name": "stdout",
     "output_type": "stream",
     "text": [
      "                price\n",
      "count     £627,004.00\n",
      "mean      £344,218.71\n",
      "std     £1,869,618.00\n",
      "min            £85.00\n",
      "25%       £143,000.00\n",
      "50%       £227,000.00\n",
      "75%       £354,000.00\n",
      "max   £569,200,000.00\n"
     ]
    }
   ],
   "source": [
    "T=chr(163)+'{:,.2f}'\n",
    "pd.options.display.float_format = T.format\n",
    "print (data.describe())"
   ]
  },
  {
   "cell_type": "markdown",
   "metadata": {},
   "source": [
    "Locate the entry of max value"
   ]
  },
  {
   "cell_type": "code",
   "execution_count": 6,
   "metadata": {},
   "outputs": [
    {
     "name": "stdout",
     "output_type": "stream",
     "text": [
      "                                          hash      price              date  \\\n",
      "132167  {666758D7-A512-3363-E053-6B04A8C0D74E}  569200000  2018-02-08 00:00   \n",
      "\n",
      "       postcode  A  B  C streetnumber    D        street    E    city  \\\n",
      "132167  W1J 7BT  O  N  F            2  NaN  STANHOPE ROW  NaN  LONDON   \n",
      "\n",
      "                      zone1           zone2  F  G  \n",
      "132167  CITY OF WESTMINSTER  GREATER LONDON  B  A  \n"
     ]
    }
   ],
   "source": [
    "print(data.loc[data['price'] == 569200000])"
   ]
  },
  {
   "cell_type": "markdown",
   "metadata": {},
   "source": [
    "Locate the entry of min value"
   ]
  },
  {
   "cell_type": "code",
   "execution_count": 7,
   "metadata": {},
   "outputs": [
    {
     "name": "stdout",
     "output_type": "stream",
     "text": [
      "                                         hash  price              date  \\\n",
      "64683  {75050A84-CA6D-9A88-E053-6B04A8C02390}     85  2018-07-27 00:00   \n",
      "\n",
      "       postcode  A  B  C streetnumber    D       street    E          city  \\\n",
      "64683  SK11 8AX  T  N  F           66  NaN  RYLE STREET  NaN  MACCLESFIELD   \n",
      "\n",
      "               zone1          zone2  F  G  \n",
      "64683  CHESHIRE EAST  CHESHIRE EAST  A  A  \n"
     ]
    }
   ],
   "source": [
    "print(data.loc[data['price'] == 85])\n"
   ]
  },
  {
   "cell_type": "markdown",
   "metadata": {},
   "source": [
    "how to plot a histogram"
   ]
  },
  {
   "cell_type": "code",
   "execution_count": 23,
   "metadata": {},
   "outputs": [
    {
     "data": {
      "image/png": "[encoded data removed]",
      "text/plain": [
       "<Figure size 432x288 with 1 Axes>"
      ]
     },
     "metadata": {
      "needs_background": "light"
     },
     "output_type": "display_data"
    }
   ],
   "source": [
    "T=np.asarray(data.price.tolist());\n",
    "plt.hist(np.log10(T),340);\n",
    "plt.xlabel('log10 house price')\n",
    "plt.show()"
   ]
  },
  {
   "cell_type": "code",
   "execution_count": 22,
   "metadata": {},
   "outputs": [
    {
     "data": {
      "image/png": "[encoded data removed]",
      "text/plain": [
       "<Figure size 432x288 with 1 Axes>"
      ]
     },
     "metadata": {
      "needs_background": "light"
     },
     "output_type": "display_data"
    }
   ],
   "source": [
    "plt.hist(np.log10(T),340);\n",
    "plt.xlabel('log10 house price')\n",
    "plt.xlim([4,7])\n",
    "plt.show()"
   ]
  },
  {
   "cell_type": "markdown",
   "metadata": {},
   "source": [
    "Report unique value in City columns"
   ]
  },
  {
   "cell_type": "code",
   "execution_count": 10,
   "metadata": {},
   "outputs": [
    {
     "name": "stdout",
     "output_type": "stream",
     "text": [
      "there are 1146 cities.\n"
     ]
    }
   ],
   "source": [
    "print (\"there are {} cities.\".format(len(data.city.unique())))"
   ]
  },
  {
   "cell_type": "code",
   "execution_count": 11,
   "metadata": {},
   "outputs": [
    {
     "data": {
      "text/plain": [
       "LONDON                 40376\n",
       "MANCHESTER             11226\n",
       "BIRMINGHAM              9769\n",
       "BRISTOL                 9615\n",
       "NOTTINGHAM              8735\n",
       "LIVERPOOL               8069\n",
       "LEEDS                   7395\n",
       "SHEFFIELD               6142\n",
       "LEICESTER               5790\n",
       "NORWICH                 4792\n",
       "SOUTHAMPTON             4742\n",
       "STOKE-ON-TRENT          4229\n",
       "NEWCASTLE UPON TYNE     4177\n",
       "CARDIFF                 3968\n",
       "NORTHAMPTON             3821\n",
       "DERBY                   3771\n",
       "COVENTRY                3625\n",
       "READING                 3606\n",
       "HULL                    3570\n",
       "YORK                    3567\n",
       "DONCASTER               3492\n",
       "SWINDON                 3369\n",
       "BRADFORD                3308\n",
       "PRESTON                 3298\n",
       "PLYMOUTH                3286\n",
       "PETERBOROUGH            3119\n",
       "STOCKPORT               3074\n",
       "COLCHESTER              3053\n",
       "BOLTON                  2981\n",
       "NEWPORT                 2905\n",
       "                       ...  \n",
       "LLANGAMMARCH WELLS        11\n",
       "LLWYNGWRIL                10\n",
       "LLANBEDR                  10\n",
       "CALSTOCK                  10\n",
       "LLANARTH                   9\n",
       "STAINES                    9\n",
       "BECKERMET                  9\n",
       "HINTON ST GEORGE           8\n",
       "WALSINGHAM                 8\n",
       "DOLWYDDELAN                7\n",
       "TY CROES                   7\n",
       "LLANDINAM                  7\n",
       "LLANFYRNACH                7\n",
       "MONTACUTE                  6\n",
       "LLANFECHAIN                6\n",
       "LLANRHYSTUD                5\n",
       "GLOGUE                     5\n",
       "GARNDOLBENMAEN             5\n",
       "BRYNTEG                    5\n",
       "LYNMOUTH                   4\n",
       "LYDBURY NORTH              4\n",
       "MINDRUM                    4\n",
       "LLANBEDRGOCH               3\n",
       "ARTHOG                     3\n",
       "GATWICK                    2\n",
       "RHOSGOCH                   2\n",
       "DULAS                      2\n",
       "RAVENGLASS                 2\n",
       "NEWCASTLETON               2\n",
       "MARIANGLAS                 2\n",
       "Name: city, dtype: int64"
      ]
     },
     "execution_count": 11,
     "metadata": {},
     "output_type": "execute_result"
    }
   ],
   "source": [
    "data.city.value_counts()"
   ]
  },
  {
   "cell_type": "code",
   "execution_count": 14,
   "metadata": {
    "scrolled": true
   },
   "outputs": [
    {
     "name": "stdout",
     "output_type": "stream",
     "text": [
      "                                          hash     price              date  \\\n",
      "854     {75050A85-AA0F-9A88-E053-6B04A8C02390}    665000  2018-08-01 00:00   \n",
      "855     {75050A85-AA10-9A88-E053-6B04A8C02390}    510000  2018-07-27 00:00   \n",
      "860     {75050A85-AA16-9A88-E053-6B04A8C02390}    575000  2018-07-20 00:00   \n",
      "862     {75050A85-AA18-9A88-E053-6B04A8C02390}   4100000  2018-08-03 00:00   \n",
      "863     {75050A85-AA19-9A88-E053-6B04A8C02390}   1230000  2018-07-20 00:00   \n",
      "1221    {75050A85-AE63-9A88-E053-6B04A8C02390}   1885000  2018-07-17 00:00   \n",
      "1550    {726BF13A-5403-0A46-E053-6C04A8C01D0D}    347000  2018-06-13 00:00   \n",
      "1555    {726BF13A-5404-0A46-E053-6C04A8C01D0D}    890000  2018-07-10 00:00   \n",
      "1564    {726BF13A-5402-0A46-E053-6C04A8C01D0D}    339000  2018-07-18 00:00   \n",
      "1704    {75050A85-BC5A-9A88-E053-6B04A8C02390}   1050000  2018-07-25 00:00   \n",
      "1705    {75050A85-BC5B-9A88-E053-6B04A8C02390}    407500  2018-08-13 00:00   \n",
      "1706    {75050A85-BC5C-9A88-E053-6B04A8C02390}    140000  2018-07-19 00:00   \n",
      "1707    {75050A85-BC5D-9A88-E053-6B04A8C02390}    505000  2018-07-02 00:00   \n",
      "1708    {75050A85-BC5E-9A88-E053-6B04A8C02390}   1550000  2018-05-08 00:00   \n",
      "1709    {75050A85-BC5F-9A88-E053-6B04A8C02390}    395000  2018-07-18 00:00   \n",
      "1710    {75050A85-BC60-9A88-E053-6B04A8C02390}    540000  2018-06-29 00:00   \n",
      "1711    {75050A85-BC61-9A88-E053-6B04A8C02390}    335000  2018-05-21 00:00   \n",
      "1712    {75050A85-BC62-9A88-E053-6B04A8C02390}    370000  2018-07-23 00:00   \n",
      "1713    {75050A85-BC64-9A88-E053-6B04A8C02390}    600000  2018-07-02 00:00   \n",
      "1714    {75050A85-BC65-9A88-E053-6B04A8C02390}    885000  2018-08-16 00:00   \n",
      "1715    {75050A85-BC66-9A88-E053-6B04A8C02390}    465000  2018-07-03 00:00   \n",
      "1716    {75050A85-BC67-9A88-E053-6B04A8C02390}    705000  2018-07-11 00:00   \n",
      "1719    {75050A85-BC6A-9A88-E053-6B04A8C02390}    353000  2018-08-03 00:00   \n",
      "1720    {75050A85-BC6B-9A88-E053-6B04A8C02390}    645000  2018-07-24 00:00   \n",
      "1721    {75050A85-BC6C-9A88-E053-6B04A8C02390}    485000  2018-07-13 00:00   \n",
      "1722    {75050A85-BC6D-9A88-E053-6B04A8C02390}    355000  2018-08-10 00:00   \n",
      "1723    {75050A85-BC6E-9A88-E053-6B04A8C02390}    450000  2018-08-16 00:00   \n",
      "2029    {75050A85-BC70-9A88-E053-6B04A8C02390}    290000  2018-08-03 00:00   \n",
      "2030    {75050A85-BC71-9A88-E053-6B04A8C02390}   1445000  2018-07-27 00:00   \n",
      "2031    {75050A85-BC72-9A88-E053-6B04A8C02390}    405000  2018-07-12 00:00   \n",
      "...                                        ...       ...               ...   \n",
      "625875  {6B32222C-E705-01F1-E053-6C04A8C0D2C8}    307000  2018-02-26 00:00   \n",
      "625876  {6B32222C-E706-01F1-E053-6C04A8C0D2C8}    120838  2018-03-15 00:00   \n",
      "625877  {6B32222C-E707-01F1-E053-6C04A8C0D2C8}     32115  2018-03-15 00:00   \n",
      "625878  {6B32222C-E708-01F1-E053-6C04A8C0D2C8}     32115  2018-03-15 00:00   \n",
      "625879  {6B32222C-E709-01F1-E053-6C04A8C0D2C8}     32115  2018-03-15 00:00   \n",
      "625880  {6B32222C-E70A-01F1-E053-6C04A8C0D2C8}     32115  2018-03-15 00:00   \n",
      "625881  {6B32222C-E70B-01F1-E053-6C04A8C0D2C8}    375000  2018-02-27 00:00   \n",
      "625882  {6B32222C-E70C-01F1-E053-6C04A8C0D2C8}     99698  2018-01-29 00:00   \n",
      "625883  {6B32222C-E70D-01F1-E053-6C04A8C0D2C8}     62835  2018-01-29 00:00   \n",
      "625884  {6B32222C-E70E-01F1-E053-6C04A8C0D2C8}     92297  2018-01-29 00:00   \n",
      "625885  {6B32222C-E70F-01F1-E053-6C04A8C0D2C8}     68124  2018-01-18 00:00   \n",
      "625886  {6B32222C-E710-01F1-E053-6C04A8C0D2C8}     83430  2018-01-31 00:00   \n",
      "625887  {6B32222C-E712-01F1-E053-6C04A8C0D2C8}   1200000  2018-03-29 00:00   \n",
      "625888  {6B32222C-E713-01F1-E053-6C04A8C0D2C8}   1350000  2018-03-29 00:00   \n",
      "625890  {6B32222C-E716-01F1-E053-6C04A8C0D2C8}    140000  2018-02-28 00:00   \n",
      "625891  {6B32222C-E717-01F1-E053-6C04A8C0D2C8}   1400000  2018-03-27 00:00   \n",
      "625982  {6B32222C-E719-01F1-E053-6C04A8C0D2C8}    530000  2018-02-27 00:00   \n",
      "625983  {6B32222C-E71A-01F1-E053-6C04A8C0D2C8}    870000  2018-03-09 00:00   \n",
      "625987  {6B32222C-E71F-01F1-E053-6C04A8C0D2C8}    365000  2018-03-13 00:00   \n",
      "625988  {6B32222C-E720-01F1-E053-6C04A8C0D2C8}  12000000  2018-03-28 00:00   \n",
      "625991  {6B32222C-E723-01F1-E053-6C04A8C0D2C8}    252000  2018-03-14 00:00   \n",
      "625992  {6B32222C-E724-01F1-E053-6C04A8C0D2C8}    200000  2018-03-29 00:00   \n",
      "626582  {726BF13A-53DB-0A46-E053-6C04A8C01D0D}   1500000  2018-06-27 00:00   \n",
      "626588  {726BF13A-53DC-0A46-E053-6C04A8C01D0D}    380000  2018-06-08 00:00   \n",
      "626593  {726BF13A-53D7-0A46-E053-6C04A8C01D0D}    610000  2018-06-25 00:00   \n",
      "626594  {726BF13A-53D8-0A46-E053-6C04A8C01D0D}    660000  2018-06-13 00:00   \n",
      "626595  {726BF13A-53D9-0A46-E053-6C04A8C01D0D}  18500000  2018-07-26 00:00   \n",
      "626596  {726BF13A-53DA-0A46-E053-6C04A8C01D0D}    925000  2018-06-08 00:00   \n",
      "626600  {726BF13A-53DD-0A46-E053-6C04A8C01D0D}    405000  2018-07-11 00:00   \n",
      "626604  {726BF13A-53DE-0A46-E053-6C04A8C01D0D}    620000  2018-06-22 00:00   \n",
      "\n",
      "        postcode  A  B  C                  streetnumber              D  \\\n",
      "854     SW20 8BQ  T  N  F                            55            NaN   \n",
      "855     SE25 4BY  T  N  F                            51            NaN   \n",
      "860     SW20 8BW  T  N  F                            42            NaN   \n",
      "862     SW19 7QT  D  N  F                            91            NaN   \n",
      "863     SW20 0QU  D  N  F                             1            NaN   \n",
      "1221    SW19 8LR  S  N  F                            54            NaN   \n",
      "1550      N9 7PN  T  N  F                           152            NaN   \n",
      "1555    NW11 9TP  T  N  F                            27            NaN   \n",
      "1564      N3 3DB  F  N  L                            17            NaN   \n",
      "1704     SE1 0RY  F  N  L             LUMIERE COURT, 52        FLAT 13   \n",
      "1705    SW16 2HR  F  N  L                           50B            NaN   \n",
      "1706    SE13 6QF  F  N  L                   FLAT C, 161            NaN   \n",
      "1707    SW14 7DN  F  N  L                            86            NaN   \n",
      "1708     SE1 2SA  F  N  L                   TUDOR HOUSE             56   \n",
      "1709    SE18 6FR  F  N  L          IMPERIAL BUILDING, 2             76   \n",
      "1710    SE16 7EN  F  N  L                            25            NaN   \n",
      "1711     SE5 0EZ  F  N  L                            79         FLAT 1   \n",
      "1712     SW2 3LT  F  N  L                 ELSTEAD HOUSE        FLAT 53   \n",
      "1713     SW9 0FF  F  N  L                             4        FLAT 32   \n",
      "1714    SW11 5SR  F  N  L                           23D            NaN   \n",
      "1715    SW12 8AY  F  N  L                             4  BASEMENT FLAT   \n",
      "1716     SE3 7PF  F  N  L                           53B            NaN   \n",
      "1719    SE23 3EU  F  N  L                             9            NaN   \n",
      "1720    SW12 0EJ  F  N  L                            10            NaN   \n",
      "1721    SW18 2TT  F  N  L                            88            NaN   \n",
      "1722     SE8 4LH  F  N  L                 CENTURY HOUSE        FLAT 32   \n",
      "1723    SE16 7EP  F  N  L                CLEVELEY COURT         FLAT 1   \n",
      "2029    SW11 5JE  F  N  L                  YOUNGS COURT       FLAT 109   \n",
      "2030     SE1 2BZ  F  N  L         VOGANS MILL WHARF, 17        FLAT 64   \n",
      "2031    SE22 0NQ  F  N  L                MUNDANIA COURT        FLAT 33   \n",
      "...          ... .. .. ..                           ...            ...   \n",
      "625875   E17 7NG  F  N  L                             9            NaN   \n",
      "625876   E10 7JQ  O  Y  L                REGENT 88, 210     OFFICE 330   \n",
      "625877   E10 7JQ  O  Y  L                REGENT 88, 210   OFFICE 332.1   \n",
      "625878   E10 7JQ  O  Y  L                REGENT 88, 210   OFFICE 332.2   \n",
      "625879   E10 7JQ  O  Y  L                REGENT 88, 210  OFFICE 332.2A   \n",
      "625880   E10 7JQ  O  Y  L                REGENT 88, 210  OFFICE 335.2A   \n",
      "625881   NW4 4RL  F  N  L                           70A            NaN   \n",
      "625882   E10 7JQ  O  Y  L                REGENT 88, 210     OFFICE G28   \n",
      "625883   E10 7JQ  O  Y  L                REGENT 88, 210     OFFICE 108   \n",
      "625884   E10 7JQ  O  Y  L                REGENT 88, 210     OFFICE G16   \n",
      "625885   E10 7JQ  O  Y  L                REGENT 88, 210     OFFICE 307   \n",
      "625886   E10 7JQ  O  Y  L                REGENT 88, 210     OFFICE 118   \n",
      "625887  NW11 7JH  F  Y  L                            81        FLAT 26   \n",
      "625888  NW11 7JH  F  Y  L                            81        FLAT 27   \n",
      "625890   E10 7JQ  O  Y  L                REGENT 88, 210     OFFICE 122   \n",
      "625891  NW11 7JH  F  Y  L                            81        FLAT 37   \n",
      "625982    E4 6DQ  T  N  F                            76            NaN   \n",
      "625983    W7 2QA  O  N  F  THE WATERSIDE TRADING CENTRE        UNIT 56   \n",
      "625987  NW11 0AP  F  N  L               HURSTWOOD COURT         FLAT 1   \n",
      "625988    W3 6LZ  O  N  F                           139            NaN   \n",
      "625991   NW9 5FH  F  N  L                         GATES        FLAT 12   \n",
      "625992    W7 1QE  F  N  L                           264            NaN   \n",
      "626582   SW6 3AR  S  N  F                            32            NaN   \n",
      "626588  SE18 2EF  T  N  F                             3            NaN   \n",
      "626593   SE6 4TS  T  N  F                            36            NaN   \n",
      "626594  SE13 6BJ  T  N  F                            12            NaN   \n",
      "626595   W11 3HB  T  N  F                             1            NaN   \n",
      "626596  SE13 5LE  D  N  F                            43            NaN   \n",
      "626600  SE18 3JZ  T  N  F                            23            NaN   \n",
      "626604  SE26 4LH  S  N  F                           112            NaN   \n",
      "\n",
      "                           street           E    city                   zone1  \\\n",
      "854        PRINCE GEORGE'S AVENUE         NaN  LONDON                  MERTON   \n",
      "855               NORHYRST AVENUE         NaN  LONDON                 CROYDON   \n",
      "860                 VERNON AVENUE         NaN  LONDON                  MERTON   \n",
      "862           WIMBLEDON HILL ROAD         NaN  LONDON                  MERTON   \n",
      "863                COOMBE GARDENS         NaN  LONDON                  MERTON   \n",
      "1221                  QUEENS ROAD         NaN  LONDON                  MERTON   \n",
      "1550              ST EDMUNDS ROAD         NaN  LONDON                 ENFIELD   \n",
      "1555               WOODVILLE ROAD         NaN  LONDON                  BARNET   \n",
      "1564                   BASING WAY         NaN  LONDON                  BARNET   \n",
      "1704             LANCASTER STREET         NaN  LONDON               SOUTHWARK   \n",
      "1705             VALLEYFIELD ROAD         NaN  LONDON                 LAMBETH   \n",
      "1706            HITHER GREEN LANE         NaN  LONDON                LEWISHAM   \n",
      "1707               DEANHILL COURT  EAST SHEEN  LONDON    RICHMOND UPON THAMES   \n",
      "1708                 DUCHESS WALK         NaN  LONDON               SOUTHWARK   \n",
      "1709    DUKE OF WELLINGTON AVENUE         NaN  LONDON               GREENWICH   \n",
      "1710       ROYAL VICTORIA GARDENS         NaN  LONDON                LEWISHAM   \n",
      "1711              CAMBERWELL ROAD         NaN  LONDON               SOUTHWARK   \n",
      "1712                 REDLANDS WAY         NaN  LONDON                 LAMBETH   \n",
      "1713          STOCKWELL PARK WALK         NaN  LONDON                 LAMBETH   \n",
      "1714               SISTERS AVENUE         NaN  LONDON              WANDSWORTH   \n",
      "1715                 BALHAM GROVE         NaN  LONDON              WANDSWORTH   \n",
      "1716               COLERAINE ROAD         NaN  LONDON               GREENWICH   \n",
      "1719           PEARCEFIELD AVENUE         NaN  LONDON                LEWISHAM   \n",
      "1720                BURNBURY ROAD         NaN  LONDON                 LAMBETH   \n",
      "1721              JOHN ARCHER WAY         NaN  LONDON              WANDSWORTH   \n",
      "1722                 ARMOURY ROAD         NaN  LONDON                LEWISHAM   \n",
      "1723                 ASHTON REACH         NaN  LONDON                LEWISHAM   \n",
      "2029     CHARLOTTE DESPARD AVENUE         NaN  LONDON              WANDSWORTH   \n",
      "2030                  MILL STREET         NaN  LONDON               SOUTHWARK   \n",
      "2031             FOREST HILL ROAD         NaN  LONDON               SOUTHWARK   \n",
      "...                           ...         ...     ...                     ...   \n",
      "625875                HOVE AVENUE         NaN  LONDON          WALTHAM FOREST   \n",
      "625876                CHURCH ROAD      LEYTON  LONDON          WALTHAM FOREST   \n",
      "625877                CHURCH ROAD      LEYTON  LONDON          WALTHAM FOREST   \n",
      "625878                CHURCH ROAD      LEYTON  LONDON          WALTHAM FOREST   \n",
      "625879                CHURCH ROAD      LEYTON  LONDON          WALTHAM FOREST   \n",
      "625880                CHURCH ROAD      LEYTON  LONDON          WALTHAM FOREST   \n",
      "625881         SUNNINGFIELDS ROAD         NaN  LONDON                  BARNET   \n",
      "625882                CHURCH ROAD      LEYTON  LONDON          WALTHAM FOREST   \n",
      "625883                CHURCH ROAD      LEYTON  LONDON          WALTHAM FOREST   \n",
      "625884                CHURCH ROAD      LEYTON  LONDON          WALTHAM FOREST   \n",
      "625885                CHURCH ROAD      LEYTON  LONDON          WALTHAM FOREST   \n",
      "625886                CHURCH ROAD      LEYTON  LONDON          WALTHAM FOREST   \n",
      "625887                CHANDOS WAY         NaN  LONDON                  BARNET   \n",
      "625888                CHANDOS WAY         NaN  LONDON                  BARNET   \n",
      "625890                CHURCH ROAD      LEYTON  LONDON          WALTHAM FOREST   \n",
      "625891                CHANDOS WAY         NaN  LONDON                  BARNET   \n",
      "625982             KIMBERLEY ROAD   CHINGFORD  LONDON          WALTHAM FOREST   \n",
      "625983               TRUMPERS WAY         NaN  LONDON                  EALING   \n",
      "625987              FINCHLEY ROAD         NaN  LONDON                  BARNET   \n",
      "625988                HIGH STREET         NaN  LONDON                  EALING   \n",
      "625991                  FIVE ACRE         NaN  LONDON                  BARNET   \n",
      "625992               COPLEY CLOSE         NaN  LONDON                  EALING   \n",
      "626582          NARBOROUGH STREET         NaN  LONDON  HAMMERSMITH AND FULHAM   \n",
      "626588               FLAXTON ROAD         NaN  LONDON               GREENWICH   \n",
      "626593              BRADGATE ROAD         NaN  LONDON                LEWISHAM   \n",
      "626594               MERCIA GROVE         NaN  LONDON                LEWISHAM   \n",
      "626595    KENSINGTON PARK GARDENS         NaN  LONDON  KENSINGTON AND CHELSEA   \n",
      "626596             MARISCHAL ROAD         NaN  LONDON                LEWISHAM   \n",
      "626600             DONALDSON ROAD         NaN  LONDON               GREENWICH   \n",
      "626604         SYDENHAM PARK ROAD         NaN  LONDON                LEWISHAM   \n",
      "\n",
      "                 zone2  F  G  \n",
      "854     GREATER LONDON  A  A  \n",
      "855     GREATER LONDON  A  A  \n",
      "860     GREATER LONDON  A  A  \n",
      "862     GREATER LONDON  A  A  \n",
      "863     GREATER LONDON  A  A  \n",
      "1221    GREATER LONDON  A  A  \n",
      "1550    GREATER LONDON  A  A  \n",
      "1555    GREATER LONDON  A  A  \n",
      "1564    GREATER LONDON  A  A  \n",
      "1704    GREATER LONDON  A  A  \n",
      "1705    GREATER LONDON  A  A  \n",
      "1706    GREATER LONDON  A  A  \n",
      "1707    GREATER LONDON  A  A  \n",
      "1708    GREATER LONDON  A  A  \n",
      "1709    GREATER LONDON  A  A  \n",
      "1710    GREATER LONDON  A  A  \n",
      "1711    GREATER LONDON  A  A  \n",
      "1712    GREATER LONDON  A  A  \n",
      "1713    GREATER LONDON  A  A  \n",
      "1714    GREATER LONDON  A  A  \n",
      "1715    GREATER LONDON  A  A  \n",
      "1716    GREATER LONDON  A  A  \n",
      "1719    GREATER LONDON  A  A  \n",
      "1720    GREATER LONDON  A  A  \n",
      "1721    GREATER LONDON  A  A  \n",
      "1722    GREATER LONDON  A  A  \n",
      "1723    GREATER LONDON  A  A  \n",
      "2029    GREATER LONDON  A  A  \n",
      "2030    GREATER LONDON  A  A  \n",
      "2031    GREATER LONDON  A  A  \n",
      "...                ... .. ..  \n",
      "625875  GREATER LONDON  B  A  \n",
      "625876  GREATER LONDON  B  A  \n",
      "625877  GREATER LONDON  B  A  \n",
      "625878  GREATER LONDON  B  A  \n",
      "625879  GREATER LONDON  B  A  \n",
      "625880  GREATER LONDON  B  A  \n",
      "625881  GREATER LONDON  B  A  \n",
      "625882  GREATER LONDON  B  A  \n",
      "625883  GREATER LONDON  B  A  \n",
      "625884  GREATER LONDON  B  A  \n",
      "625885  GREATER LONDON  B  A  \n",
      "625886  GREATER LONDON  B  A  \n",
      "625887  GREATER LONDON  B  A  \n",
      "625888  GREATER LONDON  B  A  \n",
      "625890  GREATER LONDON  B  A  \n",
      "625891  GREATER LONDON  B  A  \n",
      "625982  GREATER LONDON  B  A  \n",
      "625983  GREATER LONDON  B  A  \n",
      "625987  GREATER LONDON  B  A  \n",
      "625988  GREATER LONDON  B  A  \n",
      "625991  GREATER LONDON  B  A  \n",
      "625992  GREATER LONDON  B  A  \n",
      "626582  GREATER LONDON  A  A  \n",
      "626588  GREATER LONDON  A  A  \n",
      "626593  GREATER LONDON  A  A  \n",
      "626594  GREATER LONDON  A  A  \n",
      "626595  GREATER LONDON  A  A  \n",
      "626596  GREATER LONDON  A  A  \n",
      "626600  GREATER LONDON  A  A  \n",
      "626604  GREATER LONDON  A  A  \n",
      "\n",
      "[40376 rows x 16 columns]\n"
     ]
    }
   ],
   "source": [
    "df1 = data.loc[data['city'] == \"LONDON\"]\n",
    "print (df1)"
   ]
  },
  {
   "cell_type": "code",
   "execution_count": 40,
   "metadata": {
    "scrolled": true
   },
   "outputs": [],
   "source": [
    "df1.sort_values(['date'], ascending=[True]);"
   ]
  },
  {
   "cell_type": "code",
   "execution_count": 35,
   "metadata": {},
   "outputs": [
    {
     "data": {
      "image/png": "[encoded data removed]",
      "text/plain": [
       "<Figure size 432x288 with 1 Axes>"
      ]
     },
     "metadata": {
      "needs_background": "light"
     },
     "output_type": "display_data"
    }
   ],
   "source": [
    "T1=np.asarray(df1.price.tolist());\n",
    "plt.hist(np.log10(T),340,density=True, alpha=0.5, label='UK');\n",
    "plt.hist(np.log10(T1),340,density=True,alpha=0.5, label='London');\n",
    "plt.xlabel('log10 house price - normalized Y scale')\n",
    "plt.legend(loc='best')\n",
    "plt.show()"
   ]
  },
  {
   "cell_type": "code",
   "execution_count": 91,
   "metadata": {
    "scrolled": true
   },
   "outputs": [
    {
     "data": {
      "text/plain": [
       "<matplotlib.axes._subplots.AxesSubplot at 0x7f86654d1470>"
      ]
     },
     "execution_count": 91,
     "metadata": {},
     "output_type": "execute_result"
    },
    {
     "data": {
      "image/png": "[encoded data removed]",
      "text/plain": [
       "<Figure size 432x288 with 1 Axes>"
      ]
     },
     "metadata": {
      "needs_background": "light"
     },
     "output_type": "display_data"
    }
   ],
   "source": [
    "df1['date'].groupby(df1.date.dt.to_period(\"M\")).agg('count').plot(kind='bar') "
   ]
  },
  {
   "cell_type": "code",
   "execution_count": null,
   "metadata": {},
   "outputs": [],
   "source": []
  }
 ],
 "metadata": {
  "kernelspec": {
   "display_name": "Python 3",
   "language": "python",
   "name": "python3"
  },
  "language_info": {
   "codemirror_mode": {
    "name": "ipython",
    "version": 3
   },
   "file_extension": ".py",
   "mimetype": "text/x-python",
   "name": "python",
   "nbconvert_exporter": "python",
   "pygments_lexer": "ipython3",
   "version": "3.5.2"
  }
 },
 "nbformat": 4,
 "nbformat_minor": 2
}
